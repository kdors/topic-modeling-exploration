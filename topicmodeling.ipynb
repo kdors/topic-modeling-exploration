{
 "cells": [
  {
   "cell_type": "markdown",
   "metadata": {},
   "source": [
    "## Bob's Burgers Script Topic Modeling\n",
    "\n",
    "Using scripts for seasons 1-3, perform topic modeling to see what we get."
   ]
  },
  {
   "cell_type": "code",
   "execution_count": 1,
   "metadata": {},
   "outputs": [],
   "source": [
    "import pandas as pd\n",
    "import numpy as np\n",
    "import matplotlib.pyplot as plt\n",
    "\n",
    "%matplotlib inline"
   ]
  },
  {
   "cell_type": "markdown",
   "metadata": {},
   "source": [
    "### Web Scraping and Data Cleaning"
   ]
  },
  {
   "cell_type": "code",
   "execution_count": 3,
   "metadata": {},
   "outputs": [],
   "source": [
    "import requests\n",
    "from bs4 import BeautifulSoup\n",
    "\n",
    "# get urls for first 5 seasons\n",
    "pages = []\n",
    "script_num = 20911\n",
    "\n",
    "while script_num < 20999:\n",
    "    url_part1 = \"https://transcripts.foreverdreaming.org/viewtopic.php?f=428&t=\"\n",
    "    url = url_part1 + str(script_num) \n",
    "\n",
    "    pages.append(requests.get(url))\n",
    "\n",
    "    script_num += 1\n"
   ]
  },
  {
   "cell_type": "code",
   "execution_count": 4,
   "metadata": {},
   "outputs": [
    {
     "data": {
      "text/plain": [
       "88"
      ]
     },
     "execution_count": 4,
     "metadata": {},
     "output_type": "execute_result"
    }
   ],
   "source": [
    "# There are a total of 88 episodes from seasons 1-5\n",
    "len(pages) # sanity check"
   ]
  },
  {
   "cell_type": "code",
   "execution_count": 12,
   "metadata": {},
   "outputs": [],
   "source": [
    "# data cleaning\n",
    "attribute_num = 135012\n",
    "scripts = []\n",
    "for page in pages: \n",
    "    attribute_str = \"p\" + str(attribute_num)  # there is a different id number for each script within html\n",
    "\n",
    "    soup = BeautifulSoup(page.content, \"html.parser\")\n",
    "    results = soup.find(id=attribute_str)\n",
    "    lines = results.find_all(\"p\")\n",
    "\n",
    "    script = \" \".join([line.text for line in lines]) # make each script one string\n",
    "    script = script.replace(\"♪\",\"\")\n",
    "    script = script.replace(\"\\n\", \"\")\n",
    "    scripts.append(script) # add each script to get a list of scripts for seasons 1-3\n",
    "\n",
    "    attribute_num += 1\n"
   ]
  },
  {
   "cell_type": "code",
   "execution_count": 13,
   "metadata": {},
   "outputs": [
    {
     "data": {
      "text/plain": [
       "88"
      ]
     },
     "execution_count": 13,
     "metadata": {},
     "output_type": "execute_result"
    }
   ],
   "source": [
    "len(scripts)"
   ]
  },
  {
   "cell_type": "code",
   "execution_count": 14,
   "metadata": {},
   "outputs": [
    {
     "data": {
      "text/plain": [
       "'my recreation league angel, Gene Belcher! They\\'re baseball pants. Well, they go great with this top. It\\'s also called a jersey, Gene. No. Ease up, everybody, back off. It\\'s his first game. Oh! This is so exciting! I\\'ll show you exciting. Hi-ya! I\\'ve got armor for my ding-dong! Come on. That\\'s not how you hit a crotch with a baseball bat. This is how you hit a crotch with a baseball bat. (grunts) Ha-ha-ha! What doesn\\'t break my testicles only makes them stronger! Wow, Gene is really athletic. I love baseball: The pizza parties, the spiky shoes, the parade at the end of the season where we ride on a float. How\\'s my wave? Hi... Hi... Hey, Teddy, do you want an espresso before we close up? A what? An espresso. Huh? Whoa, look at that. Yeah, it was a little pricey, but it\\'s an investment, right? Someone comes in for a burger, they\\'ll say, \"Oh, Bob, finally you\\'re selling espresso.\" Oh, Bobby, it\\'s like that hot plate you bought. You had big dreams for that. Where is it now? It\\'s right there. Oh. Ow, it\\'s hot. Teddy, why don\\'t you try one? It\\'s on the house. Nah. Well, just to see if you like it. I don\\'t wanna, Bob. I\\'m declining politely. Just take one sh*t, Teddy! I don\\'t like those tiny cups! Just drink one! They make it look like I have giant hands! Come on! Leave me alone! Oh, fine. Really? You\\'re gonna give up that easy? Well, if no one\\'s gonna drink this, maybe I\\'ll just... Ugh, that\\'s terrible. That\\'s... that\\'s... Ooh... Ah... Ooh... Ooh, ah... Oh... ooh... Hey, Tina. Hi, Teddy. Hi. Uh... Huh. Gross, right? Yeah, it\\'s an acquired taste... that I just acquired. Hey, batter, batter, batter, hey, batter, batter, batter, hey, batter, batter, batter, batter, batter, batter, hey, hey, hey, hey! Umpire: Strike three! You\\'re out. Ha-ha! I made that kid strike out. I did that! I\\'m part of this! Which one\\'s yours? Oh, he\\'s down there in the dugout entertaining the troops. Normal Gene. Evil Gene. Normal Gene. Evil Gene. (grunts) I think I can hear my hair growing, especially the bangs. Hey, maybe that\\'s why they call them bangs. Hey, keep it down. How many espressos have you had? Just one. I\\'m being really interesting right now, I can tell. Usually my personality is a little flat. Did you ever pick up on that? That you have a personality? No. How we doing, Coach? Have you played all your kids? Uh, yeah, I think I got \\'em all. Pretty much. Yeah, I got \\'em all. Yeah, I think, I think so, yeah. What about Belly Bongo? Come on. I played my girl. I\\'m a boy. You got to play Belly Bongo, Coach. (sighs) All right, Gene, you\\'re in. What about urine? Grab a bat. Done. Now what? Sometimes with Jimmy Jr., I don\\'t know what to say. But now I don\\'t know what not to say. I have all these thoughts, and it\\'s like, \"Okay, guys, who can get to my mouth first?\" I think I love Espresso Tina. Thanks. I think Jimmy Jr. will, too. Oh, Gene\\'s going up to bat! Yay! Go, Gene, go! Whoo! Why does he have to play now? The game\\'s tied. Gene doesn\\'t even thrive under no pressure. Okay, just roll it at me as slowly as you feel like. Oh, God. Aah! Strike one, strike two, strike three! I surrender! He\\'s a, a little tentative out there. He kind of got a piece of it, right? Not really. No, no, he didn\\'t. (screams) (bat smacks) (grunts) Ow! (panting) It\\'s not your fault you lost, sweetie. It\\'s his fault. Hey! Button it, you seventh inning bi... Oh, Gene, oh, you played! Wasn\\'t it fun? I hate baseball! I hate it! (grunting) Gene, wait! (grunts) Oh, nice slide, honey! Linda: It\\'s not that bad, Gene. You made some errors, you struck out, one or two people booed. Louise. To be fair, I also laughed. That\\'s it! I\\'ll never set foot on a baseball field again except as a streaker! I quit! If you quit, you\\'d be a quitter. That\\'s worse than being a loser. Well, let\\'s not dismiss the quitting idea. Bob! What? It has a quiet dignity to it. Quiet dignity? Have you met us?! Uh, Bob, what\\'s the Burger of the Day? I\\'m looking at an empty chalkboard here. Well, it\\'s something with gouda cheese. I\\'m still trying to come up with a name for it. Woulda Coulda Gouda. You Gouda Be Kidding Me. As Gouda As it Gets. Gouda Gouda Gumdrops. A Few Gouda Men. Gouda Gouda Two Shoes... comes with shoes. Gouda Day, Sir. Uh, Tina, no more espresso for you. There goes Jimmy Jr. Hey, Jimmy Jr., I see you\\'re riding a bicycle. Do you know they call it a bicycle because \"bi\" means two? Speaking of two, there\\'s two of us. Do you want to go on a date, by the way? Uh, okay. What\\'s good for you? How about tomorrow at 5:00 a.m.? I know I\\'ll be up. Uh... Great. So it\\'s a date. I\\'ll see you then. We\\'ll get coffee. Oops, wrong way. Eh... We\\'re gonna turn this sinking ship around. You just need a little extra coaching. Right, Bob? Bob? Huh? Coaching. A little extra coaching. In? Baseball! From? You! Oh! Right. For Gene. Sure. Yes, you. Yeah, okay. Yeah. Ah... I probably should have been playing catch with you for years. Then you\\'d be good at it. It\\'s so beautiful here. Dad, is this Heaven? It\\'s not Heaven, but the, but the lighting is nice, right? It\\'s a nice time of day. You know, when I saw you playing the game, it looked to me like you were a little afraid of the ball. The stitches remind me of Frankenstein! All right, I\\'m gonna toss it to you easy, Gene, okay? It\\'s getting hard to see, so let me know when you throw it. Uh-oh. Oh! You hit me in the nose! I\\'m sorry! I said I was gonna throw it. (groans) Here, you can have a free throw at me. Ow! I thought you couldn\\'t throw! I was aiming at your feet! Ow! Stop it, Gene! That time I aimed at your face! All right, how about this? (grunts) (both grunting) Aah! Don\\'t throw that! Do not throw that! Hey, look at this. I Yahoogled \"boy needs baseball help, father-son fail unathletic hopeless turquoise jewelry.\" Why turquoise jewelry? \\'Cause I\\'ve been looking for some. It\\'s coming back. Anyway, look what came up. \"The Deuce of Diamonds\\' Diamonds in the Rough in the Diamond Baseball Camp.\" It\\'s rated four diamonds! Hello there, ballers. I\\'m the Deuce of Diamonds! Hey, I know him. He used to be the Prince of Persuasia. The Prince of whosia? A teacher of the ancient art of seduction. Dr. Yap had his video. I learned so much. But now I have something better, a magic black bean. A what? Nothing. What\\'s holding you back from maximum baseball excellence? Guess what was standing in my way. I was. Wow, that\\'s deep. Deeply dumb. Shh! I was striking myself out. Then I unlocked the baseball awesomeness inside my body. Now look at me. He didn\\'t do that. Check out these incredible results from my one-day Diamonds in the Rough in the Diamond Baseball Camp. Now he\\'s Deucing it. Now they\\'re all Deucing it. Ooh, look at this. The Deuce is holding his camp in town tomorrow! And it\\'s only $495. $495 for that? That\\'s crazy. For that kind of money, he should throw in $495. Don\\'t be a cheapskate, Bob. Do you love Gene or not? Of course I love Gene. Ew! Then we\\'re spending $495. We don\\'t have it! Oh, go fart in a fortune cookie. No fair! I can\\'t have $495, but Tina can have all the glasses she wants?! Ugh! Let\\'s discuss this over a frothy espresso. I\\'ll go make it. No more espresso, Tina. I\\'m gonna lock her in her room. Tina: No. Ah, maybe I could sell something valuable. I got a Spanish edition of Fifty Shades of Grey I found on a bus. Cincuenta Sombras de Grey. Don\\'t tell your father. You could sell your soul. I did, and look at me, I\\'m fine. (gasps) I have something more precious than my soul. Linda: And this one and this one. Good-bye. Ooh, and this one. Okay. Bye-bye. Oh, I\\'m sorry. Yeah, okay. And this one. Oh, no-no-no, not that one. Not that. I don\\'t know how that got in there. Okay. Wait, wait. A couple more. Bye. Go. Okay. Look, I need $495. Plus that derringer. Look, the kitsch craze is kind of played out. No one likes babies. What? Who doesn\\'t? What? I got a shelf of \\'em. Oh! Look at that one! Let me see that one! (clears throat) Uh, Mom. What? Oh. Going in the wrong direction. I\\'m sorry. Maybe if you had some fine art or antique coins or firearms. Or high-end restaurant equipment? Talk to me. What about the...? (gasps) Ah... (grunts) Stealing and pawning. I feel so dirty! I told you you\\'d like crime, Mom. Eh... yeah, I do. Wounder why dad changes his mind about me going to the Deuce of Diamonds\\' Baseball Camp? Well, because he loves you. But you don\\'t let him know that you know, all right? He doesn\\'t like to talk about his feelings. He\\'s all stunted inside like a big dumb man, all right? It\\'s our little secret, okay? Just like our Sunday mani-pedis. Oh, look, there he is! Hi, The Deuce. This is Gene. I\\'ve got the heart of a baseball player but the body of a manager. Office manager. No problem, that\\'s what we\\'re here for. Baseball is all I do. The Closer of Close-Up Magic. Don\\'t worry about that. The lceman of lnkjet Printer Repair? Those are just... in my trunk. Now, about the tuition... Ah! It wasn\\'t easy, but I got it all. Great, cash! I mean, checks are so formal. It\\'s a lot of money. But you guarantee results, right, Deuce? You better write your name on this little guy because you\\'re not gonna recognize him when you pick him up. Ha-ha! I\\'m gonna have a k*ller fastball and a magnificent perm. Whoo! I\\'m gonna have a hot dog. Hey-hey-hey, Jimmy Pesto! Hi, Linda. Thanks for the heads up about the baseball camp. Isn\\'t it great? Last chance to earn my love, guys. (laughs) I love that joke. Okay, guys, let\\'s get started. I\\'m gonna count these checks, and you guys are gonna inject yourself with some performance-enhancing enthusiasm! All: Yay! I am going to be athletic. How you doing, Tina? You seem a little logy. Well, you seem a little shut your face. Whoa. Tina! It\\'s her first day since I cut her off espresso, so... Yeah, when you dance with the bear, you can\\'t stop until the bear wants to stop. Espresso\\'s the bear. Come on, Dad. Just let me bite down on a bean! No! No espresso! You can\\'t have any and your father can\\'t sell any. And, uh, I mean, he\\'s allowed to, he just never, ever will. So end of subject. Uh, ooh, look at the sky. You know what? I\\'ve been thinking about it. Maybe I should try it. Broaden my horizons. No, don\\'t! I-I saw a report. It\\'ll shrink your pen1s. Yeah, it\\'ll shrink it. One study says it\\'ll shrink, the other says it\\'ll grow. You got to just live your life. Set me up, Bob. My first sale. (Linda groans) We never thought he\\'d actually sell one. I just got to take off the dust cover. Take off that dust cover. (Bob and Tina screaming) Where is it?! Oh, my God, it\\'s gone. Oh, how odd. Okay, guys, listen up. Your glove is your best friend. But you are not its best friend. You\\'re its boss and you are pissed off. Now punish your glove. Pound it. Make it afraid to miss a ball ever. (grunting) You\\'ve got to start meeting your performance goals! When you change your attitude, you change your batitude. So swing away. Uh, Mr. The Deuce, you don\\'t have a baseball. If we played with a real ball, we\\'d spend half the day running after it. It\\'s all in your mind. Whoa. Wow. (whooshing) (hitting noise) That\\'s a double in the gap. (chuckles)   (whooshing) (hitting noise) Home run. Ooh! (hitting noise) Broken bat, single. (gasps) I\\'ll need a pinch runner. What\\'s that, kid? (wheezing): I said I\\'m gonna need a pinch runner. Speak up, please. (wheezing) (whooshing) (hitting noise) Long fly ball. This could go. Oh, no, caught at the wall. No! By you. You hit it, you caught it. Amazing over-the-shoulder catch. I was robbed. By me. An espresso machine doesn\\'t just walk away. Where are you, you big, beautiful silver b*st*rd? Who would do this? (door chimes ring) Hi, Tina. What, what, what?! I just... I was saying hi. \\'Cause I just walked in, so... what do you mean, what? Oh, my God, I never noticed how annoying you are. I can\\'t even understand what you\\'re saying. Oh, I have a speech impediment, Tina. Well, fix it. Hey, where\\'s Gene? Ah, Gene, Gene, Gene. That\\'s all you ever talk about. What about me? Look at me. Gene\\'s at that baseball thing. My brothers are there, too. What?! Oh, that\\'s right. Uh, Gene\\'s at, uh... (mumbling): Deuce of Diamonds\\' Baseball Camp. Playing baseball. (panting) Okay, cross home. Tip your cap. Chest bump the guy on deck, and that\\'s a home run ot. Okay, any questions so far? About anything at all. Girls, boys, life, money, inkjet printer repair. Um, can I be a good baseball player... (wheezing): ...with asthma? Rudy, I\\'m gonna tell you a story. A famous baseball player... whose name I can\\'t remember right now... had Lou Gehrig\\'s Disease and he didn\\'t let it slow him down. That was inspiring. Um, can Ollie and I be umpires? Yes, you can. You\\'re out of there! You\\'re out of there! You\\'re out of there! You\\'re out of there! The Deuce, will I ever get over being scared of the ball? Gene, listen to me. You are so much bigger and rounder than that ball, it should be scared of you. (high voice): Oh, no, it\\'s Gene. I won\\'t hurt you, baseball. That\\'s okay. It\\'s your job to hit me over the fence. I love you so much, Gene. Aw. (phone rings) Hold on, getting a call. Ugh, Mr. You Owe Me $1,100 Manoogian. That is a long first name and a long last name. Hey, Mr. Manoogian. Well, I\\'ve been trying to reach you, too. Uh-huh, I see. Yes, sir. Okay. Well, I could pay the bill now, so you can go ahead and not put my stuff out on the street. I\\'m sorry, it\\'s how much? Minibar? That\\'s where they get you. All right, well, you know what? Then I\\'m coming down there. And I\\'m bringing some of my people. Okay, guys, listen up. Um, sometimes in baseball you go on a road trip. So let\\'s practice piling into the team bus over there. Now, everybody grab a bat. Bob: Linda, look at me. How did you pay for baseball camp? Uh... I, uh, I sold my porcelain babies. Wait, I saw those when I was tearing the place apart. So you didn\\'t sell them! Those are my backup babies. Yeah, that\\'s the B-team. Look how ugly they are. You can do this the easy way or the hard way. (porcelain shatters) Tina! Do you think I\\'m playing here? (exclaims) I need that espresso machine back... oh, my head. (giggling) Hi, Tina, I think you\\'re more into espresso than you are into me. (screams) It\\'s true. I love espresso, coffee, caffeinated teas, and then Jimmy Jr. In that order. All right, I did it. I sold the espresso machine. (sighs) That machine was the crown jewel of this restaurant, Linda. It was made in Turin, Italy. That\\'s where they make... Fiats! Big whoop. It was a waste of money. I\\'d rather waste money on Gene. You don\\'t even know if this Deuce is legit. He has a Web site. Yeah, they don\\'t just give those out. We\\'re going down there and we\\'re coming back with our money. Or a really good baseball player. I hope neither of you are getting your hopes up. Tina, break another one. That one. Oh, no. The Deuce: Okay, we\\'re here. Everybody out. Hey, this is where our dad goes for his naps. Hi, Mr. Manoogian! Oh, crap. Hey, hey, hey, hey! No, no, no, too late! Listen. Come on! You\\'re too late! Come on, man. Not cool! You\\'re not cool! Now, listen. I don\\'t have the whole $1,100 in cash. (groans): Oh... But I can sign over some checks. Now, this one has a flag on it, and patriotic checks never bounce. No, no, no, I don\\'t need your stupid flag checks, okay?! Pay me now, or I\\'m keeping your DVD player. It\\'s not a DVD player, it\\'s a Blu-ray player that also plays DVDs! Well, then, that makes it a DVD player! No, it doesn\\'t! Hey, how much for this hot pot? This is not a yard sale. Three dollars. Okay, it is a yard sale. Linda: Well, they were here. Bob: Oh, that\\'s great, so this guy... The Deuce... just takes off somewhere with all the kids? Look, he left that gym bag. See, we\\'ve got bath towels from the Sand Flea motel and some crumbled deodorant in a baggy. See, that\\'s valuable. He\\'s got to come back for that. Oh, my God, Lin, I don\\'t want to sit around waiting for him. Let\\'s go to the Sand Flea. Yeah, we shouldn\\'t even stop for coffee. But let\\'s stop for coffee. Manoogian: Okay, this isn\\'t enough. You\\'re still way short. Sorry I couldn\\'t move the tube socks. Okay, fine! If that\\'s how you want to play it, we\\'re just gonna take some swings... at your soda machine. Go to it, guys. But isn\\'t that vandalism? Babe Ruth used to beat the crap out of a root beer machine. Now look at him. Okay. (grunting) Yeah, there you go. Four-bagger. Grand salami. That\\'s a good looking foul ball right there. Soda, you made me fat, but you also made me strong! Maid cart, get it. I\\'ll come back later. These boys are very weak. I see no damage. They\\'re damaging your pride. Not very much. Bob: Oh, my God, there\\'s Gene. Gene, what are you doing? Playing baseball, and I\\'m great. (grunts) Look at his swing, Bobby. Poetry in motion. Yeah, slow motion. Some soda\\'s leaking out. It might have caffeine in it. Bob: Tina, don\\'t lick that. Do you folks mind? These practices are closed to parents. Just give us our money back and we\\'ll go. Refund, no. That\\'s not gonna happen. Yeah, that\\'s not gonna happen. Guys, I did everything The Deuce told me to and now I\\'m excellent at baseball. Gene, this is a scam. Excuse me, The Deuce has ears and feelings. Well, I\\'m sorry. Well, I forgive you. But now we want our money. Whoa, bro, easy. The next game Gene plays, you\\'ll notice a real diff. Too bad, by then, I\\'ll be setting up my winter camp in Arizona. Deucing in the desert. Aw, you\\'re gonna miss Gene hitting all those home runs. And you\\'re gonna miss the leaves changing. He\\'s not better, Lin. It\\'s not a real baseball camp. He is so better. I wish there was a game right now. He\\'d show you, buddy. You know, what? A game right now. Let\\'s do that. Yeah, let\\'s do that. Well, let\\'s not rush into anything. Some of my training takes a little time... to sink in. Oh, don\\'t be modest, The Deuce. You know what you\\'re doing. He\\'s gifted; He said so. He\\'s gonna do a TED Talk. Okay, look, I got to go. No, no, no, no, you\\'re not going anywhere. We\\'ve got enough people here for a game in that vacant lot right there. Now, if Gene gets a hit... which he won\\'t, because you\\'re a fraud... you keep the money. If not, we get a full refund. That sounds really complicated. I didn\\'t get it either. Play ball! Play ball.  For the land of the free  And the home of the brave.  Okay, first base is The Deuce\\'s baggy of deodorant, second and third are his Rollerblades, and home is his hemorrhoid pillow. Play ball! You can do it, Gene. Get a hit and disappoint your father. Okay. No hit, no hit, no hit, no hit! Come on, Gene. Wait for a big fat one right over the ass pad. The Deuce: Here it comes, Gene. Nothing to be afraid of.  (grunts) (gasps) Oh, my God, you hit it... I mean, of course you hit it, I\\'m a great coach. Gene hit it. That\\'s a hit. It\\'s n a hit if somebody catches it. Call it, someone. I got it! I got it! Wait, do you want it? No, not if you want it. You can have it. But it sounded like you wanted it. Make up your minds! Both: Let\\'s share it! No, no, don\\'t share it! (grunts) No! Now it\\'s a hit. (grunting) Hey, he\\'s still running. Throw to first. Throw to first base! Ah, you\\'re such a d!ck, Bob. (panting) Ow. That had some mustard on it. For real. No! It\\'s a hit! It\\'s an error, not a hit. Gene got a hit, you jerk. You\\'re blind. Put some lenses in those things! I\\'m blind to marry you! Why don\\'t you steal home, you thief? You\\'ve stolen everything else. You love a coffee machine more than you love your son. Get your finger out of my face. You\\'re out of here, pal! Get your finger out of my face! Stuff it up your crackerjacks! Your fat finger! Hey, there goes The Deuce. Bob: Oh, crap. Oh, no, no, no, no. (sighs) I\\'m really gonna miss that guy. He gave us his magic and then he disappeared. Just like Toad the Wet Sprocket. Are we going to the pizza party now? No. Oh. Hey, Mr. Belcher, just wait till next year. Don\\'t. Don\\'t do that. What are you doing? Don\\'t do that. (kids cheering) See, Bob, it was all worth it. Gene learned confidence. From a confidence man. I got conned good. And that ain\\'t bad. I guess I\\'m happy that Gene\\'s happy. But that espresso machine just really made me proud, that\\'s all. That dirty hunk of junk? I\\'m glad it\\'s gone. It wasn\\'t good for Tina. Where is Tina? (gulping) That pot is a week old. (gulping) I put my cigarettes out in that. (coughs) (gulping) Do you want cream or sugar? (\"Electric Boogie\" by Marcia Griffiths playing)  You can\\'t see it  It\\'s electric!  You gotta feel it  It\\'s electric!  Ooh, it\\'s shakin\\'  It\\'s electric!  (singing in Spanish)  She\\'s a-movin\\' like electric  She sure got the boogie  You gotta know it  It\\'s electric! '"
      ]
     },
     "execution_count": 14,
     "metadata": {},
     "output_type": "execute_result"
    }
   ],
   "source": [
    "# peek at last script\n",
    "# there's some odd characters such as a music note\n",
    "scripts[44]"
   ]
  },
  {
   "cell_type": "code",
   "execution_count": 15,
   "metadata": {},
   "outputs": [],
   "source": [
    "# save data to file\n",
    "txtfile = open(\"bb_scripts_file.txt\",\"w\")\n",
    "for script in scripts:\n",
    "    txtfile.write(script + \"\\n\")\n",
    "txtfile.close()"
   ]
  },
  {
   "cell_type": "code",
   "execution_count": 16,
   "metadata": {},
   "outputs": [
    {
     "data": {
      "text/plain": [
       "88"
      ]
     },
     "execution_count": 16,
     "metadata": {},
     "output_type": "execute_result"
    }
   ],
   "source": [
    "# can also get script from saved file\n",
    "scripts = []\n",
    "with open(\"bb_scripts_file.txt\", \"r\", encoding=\"UTF-8\") as inpt:\n",
    "        for episode in inpt:\n",
    "            scripts.append(episode) \n",
    "\n",
    "len(scripts)"
   ]
  },
  {
   "cell_type": "code",
   "execution_count": 17,
   "metadata": {},
   "outputs": [
    {
     "data": {
      "text/plain": [
       "'my recreation league angel, Gene Belcher! They\\'re baseball pants. Well, they go great with this top. It\\'s also called a jersey, Gene. No. Ease up, everybody, back off. It\\'s his first game. Oh! This is so exciting! I\\'ll show you exciting. Hi-ya! I\\'ve got armor for my ding-dong! Come on. That\\'s not how you hit a crotch with a baseball bat. This is how you hit a crotch with a baseball bat. (grunts) Ha-ha-ha! What doesn\\'t break my testicles only makes them stronger! Wow, Gene is really athletic. I love baseball: The pizza parties, the spiky shoes, the parade at the end of the season where we ride on a float. How\\'s my wave? Hi... Hi... Hey, Teddy, do you want an espresso before we close up? A what? An espresso. Huh? Whoa, look at that. Yeah, it was a little pricey, but it\\'s an investment, right? Someone comes in for a burger, they\\'ll say, \"Oh, Bob, finally you\\'re selling espresso.\" Oh, Bobby, it\\'s like that hot plate you bought. You had big dreams for that. Where is it now? It\\'s right there. Oh. Ow, it\\'s hot. Teddy, why don\\'t you try one? It\\'s on the house. Nah. Well, just to see if you like it. I don\\'t wanna, Bob. I\\'m declining politely. Just take one sh*t, Teddy! I don\\'t like those tiny cups! Just drink one! They make it look like I have giant hands! Come on! Leave me alone! Oh, fine. Really? You\\'re gonna give up that easy? Well, if no one\\'s gonna drink this, maybe I\\'ll just... Ugh, that\\'s terrible. That\\'s... that\\'s... Ooh... Ah... Ooh... Ooh, ah... Oh... ooh... Hey, Tina. Hi, Teddy. Hi. Uh... Huh. Gross, right? Yeah, it\\'s an acquired taste... that I just acquired. Hey, batter, batter, batter, hey, batter, batter, batter, hey, batter, batter, batter, batter, batter, batter, hey, hey, hey, hey! Umpire: Strike three! You\\'re out. Ha-ha! I made that kid strike out. I did that! I\\'m part of this! Which one\\'s yours? Oh, he\\'s down there in the dugout entertaining the troops. Normal Gene. Evil Gene. Normal Gene. Evil Gene. (grunts) I think I can hear my hair growing, especially the bangs. Hey, maybe that\\'s why they call them bangs. Hey, keep it down. How many espressos have you had? Just one. I\\'m being really interesting right now, I can tell. Usually my personality is a little flat. Did you ever pick up on that? That you have a personality? No. How we doing, Coach? Have you played all your kids? Uh, yeah, I think I got \\'em all. Pretty much. Yeah, I got \\'em all. Yeah, I think, I think so, yeah. What about Belly Bongo? Come on. I played my girl. I\\'m a boy. You got to play Belly Bongo, Coach. (sighs) All right, Gene, you\\'re in. What about urine? Grab a bat. Done. Now what? Sometimes with Jimmy Jr., I don\\'t know what to say. But now I don\\'t know what not to say. I have all these thoughts, and it\\'s like, \"Okay, guys, who can get to my mouth first?\" I think I love Espresso Tina. Thanks. I think Jimmy Jr. will, too. Oh, Gene\\'s going up to bat! Yay! Go, Gene, go! Whoo! Why does he have to play now? The game\\'s tied. Gene doesn\\'t even thrive under no pressure. Okay, just roll it at me as slowly as you feel like. Oh, God. Aah! Strike one, strike two, strike three! I surrender! He\\'s a, a little tentative out there. He kind of got a piece of it, right? Not really. No, no, he didn\\'t. (screams) (bat smacks) (grunts) Ow! (panting) It\\'s not your fault you lost, sweetie. It\\'s his fault. Hey! Button it, you seventh inning bi... Oh, Gene, oh, you played! Wasn\\'t it fun? I hate baseball! I hate it! (grunting) Gene, wait! (grunts) Oh, nice slide, honey! Linda: It\\'s not that bad, Gene. You made some errors, you struck out, one or two people booed. Louise. To be fair, I also laughed. That\\'s it! I\\'ll never set foot on a baseball field again except as a streaker! I quit! If you quit, you\\'d be a quitter. That\\'s worse than being a loser. Well, let\\'s not dismiss the quitting idea. Bob! What? It has a quiet dignity to it. Quiet dignity? Have you met us?! Uh, Bob, what\\'s the Burger of the Day? I\\'m looking at an empty chalkboard here. Well, it\\'s something with gouda cheese. I\\'m still trying to come up with a name for it. Woulda Coulda Gouda. You Gouda Be Kidding Me. As Gouda As it Gets. Gouda Gouda Gumdrops. A Few Gouda Men. Gouda Gouda Two Shoes... comes with shoes. Gouda Day, Sir. Uh, Tina, no more espresso for you. There goes Jimmy Jr. Hey, Jimmy Jr., I see you\\'re riding a bicycle. Do you know they call it a bicycle because \"bi\" means two? Speaking of two, there\\'s two of us. Do you want to go on a date, by the way? Uh, okay. What\\'s good for you? How about tomorrow at 5:00 a.m.? I know I\\'ll be up. Uh... Great. So it\\'s a date. I\\'ll see you then. We\\'ll get coffee. Oops, wrong way. Eh... We\\'re gonna turn this sinking ship around. You just need a little extra coaching. Right, Bob? Bob? Huh? Coaching. A little extra coaching. In? Baseball! From? You! Oh! Right. For Gene. Sure. Yes, you. Yeah, okay. Yeah. Ah... I probably should have been playing catch with you for years. Then you\\'d be good at it. It\\'s so beautiful here. Dad, is this Heaven? It\\'s not Heaven, but the, but the lighting is nice, right? It\\'s a nice time of day. You know, when I saw you playing the game, it looked to me like you were a little afraid of the ball. The stitches remind me of Frankenstein! All right, I\\'m gonna toss it to you easy, Gene, okay? It\\'s getting hard to see, so let me know when you throw it. Uh-oh. Oh! You hit me in the nose! I\\'m sorry! I said I was gonna throw it. (groans) Here, you can have a free throw at me. Ow! I thought you couldn\\'t throw! I was aiming at your feet! Ow! Stop it, Gene! That time I aimed at your face! All right, how about this? (grunts) (both grunting) Aah! Don\\'t throw that! Do not throw that! Hey, look at this. I Yahoogled \"boy needs baseball help, father-son fail unathletic hopeless turquoise jewelry.\" Why turquoise jewelry? \\'Cause I\\'ve been looking for some. It\\'s coming back. Anyway, look what came up. \"The Deuce of Diamonds\\' Diamonds in the Rough in the Diamond Baseball Camp.\" It\\'s rated four diamonds! Hello there, ballers. I\\'m the Deuce of Diamonds! Hey, I know him. He used to be the Prince of Persuasia. The Prince of whosia? A teacher of the ancient art of seduction. Dr. Yap had his video. I learned so much. But now I have something better, a magic black bean. A what? Nothing. What\\'s holding you back from maximum baseball excellence? Guess what was standing in my way. I was. Wow, that\\'s deep. Deeply dumb. Shh! I was striking myself out. Then I unlocked the baseball awesomeness inside my body. Now look at me. He didn\\'t do that. Check out these incredible results from my one-day Diamonds in the Rough in the Diamond Baseball Camp. Now he\\'s Deucing it. Now they\\'re all Deucing it. Ooh, look at this. The Deuce is holding his camp in town tomorrow! And it\\'s only $495. $495 for that? That\\'s crazy. For that kind of money, he should throw in $495. Don\\'t be a cheapskate, Bob. Do you love Gene or not? Of course I love Gene. Ew! Then we\\'re spending $495. We don\\'t have it! Oh, go fart in a fortune cookie. No fair! I can\\'t have $495, but Tina can have all the glasses she wants?! Ugh! Let\\'s discuss this over a frothy espresso. I\\'ll go make it. No more espresso, Tina. I\\'m gonna lock her in her room. Tina: No. Ah, maybe I could sell something valuable. I got a Spanish edition of Fifty Shades of Grey I found on a bus. Cincuenta Sombras de Grey. Don\\'t tell your father. You could sell your soul. I did, and look at me, I\\'m fine. (gasps) I have something more precious than my soul. Linda: And this one and this one. Good-bye. Ooh, and this one. Okay. Bye-bye. Oh, I\\'m sorry. Yeah, okay. And this one. Oh, no-no-no, not that one. Not that. I don\\'t know how that got in there. Okay. Wait, wait. A couple more. Bye. Go. Okay. Look, I need $495. Plus that derringer. Look, the kitsch craze is kind of played out. No one likes babies. What? Who doesn\\'t? What? I got a shelf of \\'em. Oh! Look at that one! Let me see that one! (clears throat) Uh, Mom. What? Oh. Going in the wrong direction. I\\'m sorry. Maybe if you had some fine art or antique coins or firearms. Or high-end restaurant equipment? Talk to me. What about the...? (gasps) Ah... (grunts) Stealing and pawning. I feel so dirty! I told you you\\'d like crime, Mom. Eh... yeah, I do. Wounder why dad changes his mind about me going to the Deuce of Diamonds\\' Baseball Camp? Well, because he loves you. But you don\\'t let him know that you know, all right? He doesn\\'t like to talk about his feelings. He\\'s all stunted inside like a big dumb man, all right? It\\'s our little secret, okay? Just like our Sunday mani-pedis. Oh, look, there he is! Hi, The Deuce. This is Gene. I\\'ve got the heart of a baseball player but the body of a manager. Office manager. No problem, that\\'s what we\\'re here for. Baseball is all I do. The Closer of Close-Up Magic. Don\\'t worry about that. The lceman of lnkjet Printer Repair? Those are just... in my trunk. Now, about the tuition... Ah! It wasn\\'t easy, but I got it all. Great, cash! I mean, checks are so formal. It\\'s a lot of money. But you guarantee results, right, Deuce? You better write your name on this little guy because you\\'re not gonna recognize him when you pick him up. Ha-ha! I\\'m gonna have a k*ller fastball and a magnificent perm. Whoo! I\\'m gonna have a hot dog. Hey-hey-hey, Jimmy Pesto! Hi, Linda. Thanks for the heads up about the baseball camp. Isn\\'t it great? Last chance to earn my love, guys. (laughs) I love that joke. Okay, guys, let\\'s get started. I\\'m gonna count these checks, and you guys are gonna inject yourself with some performance-enhancing enthusiasm! All: Yay! I am going to be athletic. How you doing, Tina? You seem a little logy. Well, you seem a little shut your face. Whoa. Tina! It\\'s her first day since I cut her off espresso, so... Yeah, when you dance with the bear, you can\\'t stop until the bear wants to stop. Espresso\\'s the bear. Come on, Dad. Just let me bite down on a bean! No! No espresso! You can\\'t have any and your father can\\'t sell any. And, uh, I mean, he\\'s allowed to, he just never, ever will. So end of subject. Uh, ooh, look at the sky. You know what? I\\'ve been thinking about it. Maybe I should try it. Broaden my horizons. No, don\\'t! I-I saw a report. It\\'ll shrink your pen1s. Yeah, it\\'ll shrink it. One study says it\\'ll shrink, the other says it\\'ll grow. You got to just live your life. Set me up, Bob. My first sale. (Linda groans) We never thought he\\'d actually sell one. I just got to take off the dust cover. Take off that dust cover. (Bob and Tina screaming) Where is it?! Oh, my God, it\\'s gone. Oh, how odd. Okay, guys, listen up. Your glove is your best friend. But you are not its best friend. You\\'re its boss and you are pissed off. Now punish your glove. Pound it. Make it afraid to miss a ball ever. (grunting) You\\'ve got to start meeting your performance goals! When you change your attitude, you change your batitude. So swing away. Uh, Mr. The Deuce, you don\\'t have a baseball. If we played with a real ball, we\\'d spend half the day running after it. It\\'s all in your mind. Whoa. Wow. (whooshing) (hitting noise) That\\'s a double in the gap. (chuckles)   (whooshing) (hitting noise) Home run. Ooh! (hitting noise) Broken bat, single. (gasps) I\\'ll need a pinch runner. What\\'s that, kid? (wheezing): I said I\\'m gonna need a pinch runner. Speak up, please. (wheezing) (whooshing) (hitting noise) Long fly ball. This could go. Oh, no, caught at the wall. No! By you. You hit it, you caught it. Amazing over-the-shoulder catch. I was robbed. By me. An espresso machine doesn\\'t just walk away. Where are you, you big, beautiful silver b*st*rd? Who would do this? (door chimes ring) Hi, Tina. What, what, what?! I just... I was saying hi. \\'Cause I just walked in, so... what do you mean, what? Oh, my God, I never noticed how annoying you are. I can\\'t even understand what you\\'re saying. Oh, I have a speech impediment, Tina. Well, fix it. Hey, where\\'s Gene? Ah, Gene, Gene, Gene. That\\'s all you ever talk about. What about me? Look at me. Gene\\'s at that baseball thing. My brothers are there, too. What?! Oh, that\\'s right. Uh, Gene\\'s at, uh... (mumbling): Deuce of Diamonds\\' Baseball Camp. Playing baseball. (panting) Okay, cross home. Tip your cap. Chest bump the guy on deck, and that\\'s a home run ot. Okay, any questions so far? About anything at all. Girls, boys, life, money, inkjet printer repair. Um, can I be a good baseball player... (wheezing): ...with asthma? Rudy, I\\'m gonna tell you a story. A famous baseball player... whose name I can\\'t remember right now... had Lou Gehrig\\'s Disease and he didn\\'t let it slow him down. That was inspiring. Um, can Ollie and I be umpires? Yes, you can. You\\'re out of there! You\\'re out of there! You\\'re out of there! You\\'re out of there! The Deuce, will I ever get over being scared of the ball? Gene, listen to me. You are so much bigger and rounder than that ball, it should be scared of you. (high voice): Oh, no, it\\'s Gene. I won\\'t hurt you, baseball. That\\'s okay. It\\'s your job to hit me over the fence. I love you so much, Gene. Aw. (phone rings) Hold on, getting a call. Ugh, Mr. You Owe Me $1,100 Manoogian. That is a long first name and a long last name. Hey, Mr. Manoogian. Well, I\\'ve been trying to reach you, too. Uh-huh, I see. Yes, sir. Okay. Well, I could pay the bill now, so you can go ahead and not put my stuff out on the street. I\\'m sorry, it\\'s how much? Minibar? That\\'s where they get you. All right, well, you know what? Then I\\'m coming down there. And I\\'m bringing some of my people. Okay, guys, listen up. Um, sometimes in baseball you go on a road trip. So let\\'s practice piling into the team bus over there. Now, everybody grab a bat. Bob: Linda, look at me. How did you pay for baseball camp? Uh... I, uh, I sold my porcelain babies. Wait, I saw those when I was tearing the place apart. So you didn\\'t sell them! Those are my backup babies. Yeah, that\\'s the B-team. Look how ugly they are. You can do this the easy way or the hard way. (porcelain shatters) Tina! Do you think I\\'m playing here? (exclaims) I need that espresso machine back... oh, my head. (giggling) Hi, Tina, I think you\\'re more into espresso than you are into me. (screams) It\\'s true. I love espresso, coffee, caffeinated teas, and then Jimmy Jr. In that order. All right, I did it. I sold the espresso machine. (sighs) That machine was the crown jewel of this restaurant, Linda. It was made in Turin, Italy. That\\'s where they make... Fiats! Big whoop. It was a waste of money. I\\'d rather waste money on Gene. You don\\'t even know if this Deuce is legit. He has a Web site. Yeah, they don\\'t just give those out. We\\'re going down there and we\\'re coming back with our money. Or a really good baseball player. I hope neither of you are getting your hopes up. Tina, break another one. That one. Oh, no. The Deuce: Okay, we\\'re here. Everybody out. Hey, this is where our dad goes for his naps. Hi, Mr. Manoogian! Oh, crap. Hey, hey, hey, hey! No, no, no, too late! Listen. Come on! You\\'re too late! Come on, man. Not cool! You\\'re not cool! Now, listen. I don\\'t have the whole $1,100 in cash. (groans): Oh... But I can sign over some checks. Now, this one has a flag on it, and patriotic checks never bounce. No, no, no, I don\\'t need your stupid flag checks, okay?! Pay me now, or I\\'m keeping your DVD player. It\\'s not a DVD player, it\\'s a Blu-ray player that also plays DVDs! Well, then, that makes it a DVD player! No, it doesn\\'t! Hey, how much for this hot pot? This is not a yard sale. Three dollars. Okay, it is a yard sale. Linda: Well, they were here. Bob: Oh, that\\'s great, so this guy... The Deuce... just takes off somewhere with all the kids? Look, he left that gym bag. See, we\\'ve got bath towels from the Sand Flea motel and some crumbled deodorant in a baggy. See, that\\'s valuable. He\\'s got to come back for that. Oh, my God, Lin, I don\\'t want to sit around waiting for him. Let\\'s go to the Sand Flea. Yeah, we shouldn\\'t even stop for coffee. But let\\'s stop for coffee. Manoogian: Okay, this isn\\'t enough. You\\'re still way short. Sorry I couldn\\'t move the tube socks. Okay, fine! If that\\'s how you want to play it, we\\'re just gonna take some swings... at your soda machine. Go to it, guys. But isn\\'t that vandalism? Babe Ruth used to beat the crap out of a root beer machine. Now look at him. Okay. (grunting) Yeah, there you go. Four-bagger. Grand salami. That\\'s a good looking foul ball right there. Soda, you made me fat, but you also made me strong! Maid cart, get it. I\\'ll come back later. These boys are very weak. I see no damage. They\\'re damaging your pride. Not very much. Bob: Oh, my God, there\\'s Gene. Gene, what are you doing? Playing baseball, and I\\'m great. (grunts) Look at his swing, Bobby. Poetry in motion. Yeah, slow motion. Some soda\\'s leaking out. It might have caffeine in it. Bob: Tina, don\\'t lick that. Do you folks mind? These practices are closed to parents. Just give us our money back and we\\'ll go. Refund, no. That\\'s not gonna happen. Yeah, that\\'s not gonna happen. Guys, I did everything The Deuce told me to and now I\\'m excellent at baseball. Gene, this is a scam. Excuse me, The Deuce has ears and feelings. Well, I\\'m sorry. Well, I forgive you. But now we want our money. Whoa, bro, easy. The next game Gene plays, you\\'ll notice a real diff. Too bad, by then, I\\'ll be setting up my winter camp in Arizona. Deucing in the desert. Aw, you\\'re gonna miss Gene hitting all those home runs. And you\\'re gonna miss the leaves changing. He\\'s not better, Lin. It\\'s not a real baseball camp. He is so better. I wish there was a game right now. He\\'d show you, buddy. You know, what? A game right now. Let\\'s do that. Yeah, let\\'s do that. Well, let\\'s not rush into anything. Some of my training takes a little time... to sink in. Oh, don\\'t be modest, The Deuce. You know what you\\'re doing. He\\'s gifted; He said so. He\\'s gonna do a TED Talk. Okay, look, I got to go. No, no, no, no, you\\'re not going anywhere. We\\'ve got enough people here for a game in that vacant lot right there. Now, if Gene gets a hit... which he won\\'t, because you\\'re a fraud... you keep the money. If not, we get a full refund. That sounds really complicated. I didn\\'t get it either. Play ball! Play ball.  For the land of the free  And the home of the brave.  Okay, first base is The Deuce\\'s baggy of deodorant, second and third are his Rollerblades, and home is his hemorrhoid pillow. Play ball! You can do it, Gene. Get a hit and disappoint your father. Okay. No hit, no hit, no hit, no hit! Come on, Gene. Wait for a big fat one right over the ass pad. The Deuce: Here it comes, Gene. Nothing to be afraid of.  (grunts) (gasps) Oh, my God, you hit it... I mean, of course you hit it, I\\'m a great coach. Gene hit it. That\\'s a hit. It\\'s n a hit if somebody catches it. Call it, someone. I got it! I got it! Wait, do you want it? No, not if you want it. You can have it. But it sounded like you wanted it. Make up your minds! Both: Let\\'s share it! No, no, don\\'t share it! (grunts) No! Now it\\'s a hit. (grunting) Hey, he\\'s still running. Throw to first. Throw to first base! Ah, you\\'re such a d!ck, Bob. (panting) Ow. That had some mustard on it. For real. No! It\\'s a hit! It\\'s an error, not a hit. Gene got a hit, you jerk. You\\'re blind. Put some lenses in those things! I\\'m blind to marry you! Why don\\'t you steal home, you thief? You\\'ve stolen everything else. You love a coffee machine more than you love your son. Get your finger out of my face. You\\'re out of here, pal! Get your finger out of my face! Stuff it up your crackerjacks! Your fat finger! Hey, there goes The Deuce. Bob: Oh, crap. Oh, no, no, no, no. (sighs) I\\'m really gonna miss that guy. He gave us his magic and then he disappeared. Just like Toad the Wet Sprocket. Are we going to the pizza party now? No. Oh. Hey, Mr. Belcher, just wait till next year. Don\\'t. Don\\'t do that. What are you doing? Don\\'t do that. (kids cheering) See, Bob, it was all worth it. Gene learned confidence. From a confidence man. I got conned good. And that ain\\'t bad. I guess I\\'m happy that Gene\\'s happy. But that espresso machine just really made me proud, that\\'s all. That dirty hunk of junk? I\\'m glad it\\'s gone. It wasn\\'t good for Tina. Where is Tina? (gulping) That pot is a week old. (gulping) I put my cigarettes out in that. (coughs) (gulping) Do you want cream or sugar? (\"Electric Boogie\" by Marcia Griffiths playing)  You can\\'t see it  It\\'s electric!  You gotta feel it  It\\'s electric!  Ooh, it\\'s shakin\\'  It\\'s electric!  (singing in Spanish)  She\\'s a-movin\\' like electric  She sure got the boogie  You gotta know it  It\\'s electric! \\n'"
      ]
     },
     "execution_count": 17,
     "metadata": {},
     "output_type": "execute_result"
    }
   ],
   "source": [
    "scripts[44]"
   ]
  },
  {
   "cell_type": "markdown",
   "metadata": {},
   "source": [
    "### Data Processing"
   ]
  },
  {
   "cell_type": "code",
   "execution_count": 54,
   "metadata": {},
   "outputs": [],
   "source": [
    "from sklearn.feature_extraction.text import CountVectorizer\n",
    "from scipy import linalg\n",
    "\n",
    "vect = CountVectorizer(stop_words=\"english\")\n",
    "transformed_data = vect.fit_transform(scripts).todense()\n"
   ]
  },
  {
   "cell_type": "code",
   "execution_count": 66,
   "metadata": {},
   "outputs": [
    {
     "data": {
      "text/plain": [
       "['latter', 'four', 'twenty', 'could', 'using']"
      ]
     },
     "execution_count": 66,
     "metadata": {},
     "output_type": "execute_result"
    }
   ],
   "source": [
    "# different stop words\n",
    "import spacy\n",
    "\n",
    "spacy_nlp = spacy.load(\"en_core_web_sm\")\n",
    "spacy_stopwords = list(spacy_nlp.Defaults.stop_words)\n",
    "spacy_stopwords[:5]\n"
   ]
  },
  {
   "cell_type": "code",
   "execution_count": 70,
   "metadata": {},
   "outputs": [
    {
     "name": "stderr",
     "output_type": "stream",
     "text": [
      "/Users/kennedy/opt/miniconda3/envs/ml-env/lib/python3.9/site-packages/sklearn/feature_extraction/text.py:396: UserWarning: Your stop_words may be inconsistent with your preprocessing. Tokenizing the stop words generated tokens ['ll', 've'] not in stop_words.\n",
      "  warnings.warn(\n"
     ]
    }
   ],
   "source": [
    "vect_spacy = CountVectorizer(stop_words=spacy_stopwords)\n",
    "transformed_data = vect_spacy.fit_transform(scripts).todense()"
   ]
  },
  {
   "cell_type": "code",
   "execution_count": 71,
   "metadata": {},
   "outputs": [
    {
     "name": "stdout",
     "output_type": "stream",
     "text": [
      "8863\n",
      "['00' 'baldness' 'buchanan' 'cleaner' 'dating' 'electrocuted' 'flossing'\n",
      " 'hacking' 'insufferable' 'liquor' 'monologues' 'panky' 'professionals'\n",
      " 'ropes' 'sissy' 'stolen' 'tinkle' 'wallflower']\n"
     ]
    }
   ],
   "source": [
    "words = np.array(vect_spacy.get_feature_names_out())\n",
    "print(len(words))\n",
    "print(words[::500])"
   ]
  },
  {
   "cell_type": "code",
   "execution_count": 90,
   "metadata": {},
   "outputs": [
    {
     "data": {
      "text/html": [
       "<div>\n",
       "<style scoped>\n",
       "    .dataframe tbody tr th:only-of-type {\n",
       "        vertical-align: middle;\n",
       "    }\n",
       "\n",
       "    .dataframe tbody tr th {\n",
       "        vertical-align: top;\n",
       "    }\n",
       "\n",
       "    .dataframe thead th {\n",
       "        text-align: right;\n",
       "    }\n",
       "</style>\n",
       "<table border=\"1\" class=\"dataframe\">\n",
       "  <thead>\n",
       "    <tr style=\"text-align: right;\">\n",
       "      <th></th>\n",
       "      <th>Term</th>\n",
       "      <th>Count</th>\n",
       "    </tr>\n",
       "  </thead>\n",
       "  <tbody>\n",
       "    <tr>\n",
       "      <th>0</th>\n",
       "      <td>access</td>\n",
       "      <td>100</td>\n",
       "    </tr>\n",
       "    <tr>\n",
       "      <th>1</th>\n",
       "      <td>boats</td>\n",
       "      <td>799</td>\n",
       "    </tr>\n",
       "    <tr>\n",
       "      <th>2</th>\n",
       "      <td>cleaner</td>\n",
       "      <td>1500</td>\n",
       "    </tr>\n",
       "    <tr>\n",
       "      <th>3</th>\n",
       "      <td>discerning</td>\n",
       "      <td>2196</td>\n",
       "    </tr>\n",
       "    <tr>\n",
       "      <th>4</th>\n",
       "      <td>finders</td>\n",
       "      <td>2896</td>\n",
       "    </tr>\n",
       "    <tr>\n",
       "      <th>5</th>\n",
       "      <td>haw</td>\n",
       "      <td>3594</td>\n",
       "    </tr>\n",
       "    <tr>\n",
       "      <th>6</th>\n",
       "      <td>kooks</td>\n",
       "      <td>4294</td>\n",
       "    </tr>\n",
       "    <tr>\n",
       "      <th>7</th>\n",
       "      <td>monologues</td>\n",
       "      <td>4995</td>\n",
       "    </tr>\n",
       "    <tr>\n",
       "      <th>8</th>\n",
       "      <td>phony</td>\n",
       "      <td>5695</td>\n",
       "    </tr>\n",
       "    <tr>\n",
       "      <th>9</th>\n",
       "      <td>revolution</td>\n",
       "      <td>6397</td>\n",
       "    </tr>\n",
       "    <tr>\n",
       "      <th>10</th>\n",
       "      <td>slurps</td>\n",
       "      <td>7098</td>\n",
       "    </tr>\n",
       "    <tr>\n",
       "      <th>11</th>\n",
       "      <td>tat</td>\n",
       "      <td>7797</td>\n",
       "    </tr>\n",
       "    <tr>\n",
       "      <th>12</th>\n",
       "      <td>wallflower</td>\n",
       "      <td>8500</td>\n",
       "    </tr>\n",
       "  </tbody>\n",
       "</table>\n",
       "</div>"
      ],
      "text/plain": [
       "          Term  Count\n",
       "0       access    100\n",
       "1        boats    799\n",
       "2      cleaner   1500\n",
       "3   discerning   2196\n",
       "4      finders   2896\n",
       "5          haw   3594\n",
       "6        kooks   4294\n",
       "7   monologues   4995\n",
       "8        phony   5695\n",
       "9   revolution   6397\n",
       "10      slurps   7098\n",
       "11         tat   7797\n",
       "12  wallflower   8500"
      ]
     },
     "execution_count": 90,
     "metadata": {},
     "output_type": "execute_result"
    }
   ],
   "source": [
    "word_count = [vect.vocabulary_[val] for val in words[100::700]]\n",
    "pd.DataFrame({\"Term\":words[100::700], \"Count\":word_count})"
   ]
  },
  {
   "cell_type": "code",
   "execution_count": 72,
   "metadata": {},
   "outputs": [],
   "source": [
    "U, S, V_t = linalg.svd(transformed_data, full_matrices=False)"
   ]
  },
  {
   "cell_type": "code",
   "execution_count": 73,
   "metadata": {},
   "outputs": [
    {
     "data": {
      "text/plain": [
       "[<matplotlib.lines.Line2D at 0x7fd02ab82ac0>]"
      ]
     },
     "execution_count": 73,
     "metadata": {},
     "output_type": "execute_result"
    },
    {
     "data": {
      "image/png": "[encoded data removed]",
      "text/plain": [
       "<Figure size 432x288 with 1 Axes>"
      ]
     },
     "metadata": {
      "needs_background": "light"
     },
     "output_type": "display_data"
    }
   ],
   "source": [
    "# plot singular values\n",
    "plt.plot(S)"
   ]
  },
  {
   "cell_type": "code",
   "execution_count": 74,
   "metadata": {},
   "outputs": [
    {
     "data": {
      "text/plain": [
       "[<matplotlib.lines.Line2D at 0x7fd02aa52c40>]"
      ]
     },
     "execution_count": 74,
     "metadata": {},
     "output_type": "execute_result"
    },
    {
     "data": {
      "image/png": "[encoded data removed]",
      "text/plain": [
       "<Figure size 432x288 with 1 Axes>"
      ]
     },
     "metadata": {
      "needs_background": "light"
     },
     "output_type": "display_data"
    }
   ],
   "source": [
    "# first singular value contains most of the information\n",
    "plt.plot(S[:10])"
   ]
  },
  {
   "cell_type": "code",
   "execution_count": 59,
   "metadata": {},
   "outputs": [],
   "source": [
    "num_top_words=8\n",
    "\n",
    "def show_topics(a):\n",
    "    top_words = lambda t: [words[i] for i in np.argsort(t)[:-num_top_words-1:-1]]\n",
    "    topic_words = ([top_words(t) for t in a])\n",
    "    return [' '.join(t) for t in topic_words]"
   ]
  },
  {
   "cell_type": "code",
   "execution_count": 75,
   "metadata": {},
   "outputs": [
    {
     "data": {
      "text/plain": [
       "['005 33 restroom batteries bistro cemetery scenic outlets',\n",
       " 'tina jimmy dance got tammy zeke school jr',\n",
       " 'jimmy bob tina ha gonna right dance jr',\n",
       " 'uh yeah la boom chet oh kids christmas',\n",
       " 'ha tina shark teddy ok dad jairo like',\n",
       " 'oh family dad gonna room louise chuck pam',\n",
       " 'chet christmas day dad la ll nadine love',\n",
       " 'mickey fun okay dad boom weina dork want',\n",
       " 'right yeah like cow burger dad know courtney',\n",
       " 'toilet ll uh bob party linda love tina']"
      ]
     },
     "execution_count": 75,
     "metadata": {},
     "output_type": "execute_result"
    }
   ],
   "source": [
    "show_topics(V_t[:10])"
   ]
  },
  {
   "cell_type": "code",
   "execution_count": null,
   "metadata": {},
   "outputs": [],
   "source": []
  }
 ],
 "metadata": {
  "interpreter": {
   "hash": "1f210e563c6da56e3be9bcca48fca9c337b4a237cc2140439a8a58b5307837f4"
  },
  "kernelspec": {
   "display_name": "Python 3.9.5 64-bit ('ml-env': conda)",
   "language": "python",
   "name": "python3"
  },
  "language_info": {
   "codemirror_mode": {
    "name": "ipython",
    "version": 3
   },
   "file_extension": ".py",
   "mimetype": "text/x-python",
   "name": "python",
   "nbconvert_exporter": "python",
   "pygments_lexer": "ipython3",
   "version": "3.9.5"
  },
  "orig_nbformat": 4
 },
 "nbformat": 4,
 "nbformat_minor": 2
}
